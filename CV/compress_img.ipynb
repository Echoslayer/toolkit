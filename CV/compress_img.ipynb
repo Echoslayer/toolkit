{
 "cells": [
  {
   "cell_type": "markdown",
   "metadata": {},
   "source": [
    "## 壓縮變更圖檔"
   ]
  },
  {
   "cell_type": "code",
   "execution_count": 1,
   "metadata": {},
   "outputs": [
    {
     "name": "stdout",
     "output_type": "stream",
     "text": [
      "Requirement already satisfied: Pillow in f:\\code\\calibration\\labenv\\lib\\site-packages (10.1.0)"
     ]
    },
    {
     "name": "stderr",
     "output_type": "stream",
     "text": [
      "\n",
      "[notice] A new release of pip is available: 23.1.2 -> 23.3.2\n",
      "[notice] To update, run: python.exe -m pip install --upgrade pip\n"
     ]
    },
    {
     "name": "stdout",
     "output_type": "stream",
     "text": [
      "\n"
     ]
    }
   ],
   "source": [
    "!pip install Pillow"
   ]
  },
  {
   "cell_type": "code",
   "execution_count": 11,
   "metadata": {},
   "outputs": [
    {
     "data": {
      "text/plain": [
       "'G:\\\\我的雲端硬碟\\\\Course\\\\研一上\\\\彈性力學'"
      ]
     },
     "execution_count": 11,
     "metadata": {},
     "output_type": "execute_result"
    }
   ],
   "source": [
    "%pwd"
   ]
  },
  {
   "cell_type": "code",
   "execution_count": 10,
   "metadata": {},
   "outputs": [
    {
     "name": "stdout",
     "output_type": "stream",
     "text": [
      "G:\\我的雲端硬碟\\Course\\研一上\\彈性力學\n"
     ]
    },
    {
     "data": {
      "text/plain": [
       "'G:\\\\我的雲端硬碟\\\\Course\\\\研一上\\\\彈性力學'"
      ]
     },
     "execution_count": 10,
     "metadata": {},
     "output_type": "execute_result"
    }
   ],
   "source": [
    "# %cd G:\\我的雲端硬碟\\Course\\Obsidian\\Course\\彈性力學\n",
    "%cd G:\\我的雲端硬碟\\Course\\研一上\\彈性力學\n",
    "%pwd"
   ]
  },
  {
   "cell_type": "code",
   "execution_count": 15,
   "metadata": {},
   "outputs": [],
   "source": [
    "from PIL import Image\n",
    "import os\n",
    "\n",
    "def convert_images_and_remove_originals(source_folder, backup_folder, target_format, extension_mode=None):\n",
    "    \"\"\"\n",
    "    Convert all images in the source folder to a specified format, save them\n",
    "    in the same folder, and save a copy of the original images in a backup folder.\n",
    "    Then, delete the original images from the source folder.\n",
    "\n",
    "    :param source_folder: Path to the folder containing the original images.\n",
    "    :param backup_folder: Path to the folder where copies of the original images will be saved.\n",
    "    :param target_format: The format to convert images to (default is JPEG).\n",
    "    \"\"\"\n",
    "    # 確保備份資料夾存在\n",
    "    if not os.path.exists(backup_folder):\n",
    "        os.makedirs(backup_folder)\n",
    "\n",
    "    # 遍歷來源資料夾中的所有檔案\n",
    "    for filename in os.listdir(source_folder):\n",
    "        if filename.lower().endswith(('.png', '.jpg', '.jpeg', '.tiff', '.bmp', '.gif')):\n",
    "            file_path = os.path.join(source_folder, filename)\n",
    "            # 讀取圖片\n",
    "            with Image.open(file_path) as img:\n",
    "                # 儲存原始圖片的副本到備份資料夾\n",
    "                backup_path = os.path.join(backup_folder, filename)\n",
    "                img.save(backup_path)\n",
    "\n",
    "                # 構建目標檔案路徑\n",
    "                target_file = os.path.join(source_folder, os.path.splitext(filename)[0] + '.' + target_format.lower())\n",
    "                \n",
    "                # 如果設定了壓縮模式，進行壓縮\n",
    "                if extension_mode == \"compress\":\n",
    "                    img = compress_img(img)\n",
    "\n",
    "                # 轉換並儲存圖片\n",
    "                img.convert('RGB').save(target_file, target_format)\n",
    "\n",
    "            # 刪除原始檔案\n",
    "            if file_path != target_file:  # 確保不刪除剛剛轉換的檔案\n",
    "                os.remove(file_path)\n",
    "\n",
    "                \n",
    "def compress_img(img, quality=85):\n",
    "    \"\"\"\n",
    "    壓縮圖片以減少檔案大小，特別適用於 JPEG 格式。\n",
    "    :param img: PIL Image 物件\n",
    "    :param quality: 壓縮質量，範圍為 0 至 100，數值越低壓縮率越高\n",
    "    :return: 壓縮後的 PIL Image 物件\n",
    "    \"\"\"\n",
    "    # 使用 BytesIO 作為暫存的記憶體檔案\n",
    "    from io import BytesIO\n",
    "\n",
    "    # 建立一個記憶體檔案\n",
    "    img_io = BytesIO()\n",
    "    \n",
    "    # 儲存圖片到這個記憶體檔案，使用指定的壓縮質量\n",
    "    img.save(img_io, 'JPEG', quality=quality)\n",
    "\n",
    "    # 將記憶體檔案的指標移回開頭\n",
    "    img_io.seek(0)\n",
    "\n",
    "    # 從記憶體檔案讀取並返回壓縮後的圖片\n",
    "    return Image.open(img_io)\n"
   ]
  },
  {
   "cell_type": "code",
   "execution_count": 20,
   "metadata": {},
   "outputs": [],
   "source": [
    "# 使用範例\n",
    "source = './補充 作業 考古'  # 來源資料夾路徑\n",
    "backup = './Backup'  # 備份資料夾路徑\n",
    "convert_images_and_remove_originals(source, backup, 'jpeg')  # 轉換格式為 JPEG"
   ]
  },
  {
   "cell_type": "markdown",
   "metadata": {},
   "source": [
    "## 變更Markdown資料連結性質"
   ]
  },
  {
   "cell_type": "code",
   "execution_count": 5,
   "metadata": {},
   "outputs": [],
   "source": [
    "import os\n",
    "import re\n",
    "\n",
    "def update_image_links_in_md(folder_path):\n",
    "    \"\"\"\n",
    "    Update all .png image links in Markdown files within the given folder to .jpeg\n",
    "\n",
    "    :param folder_path: Path to the folder containing Markdown files.\n",
    "    \"\"\"\n",
    "    # 定義圖片連結的正則表達式\n",
    "    img_link_pattern = re.compile(r'!\\[\\[.*?\\.png\\]\\]')\n",
    "\n",
    "    # 遍歷資料夾中的所有 .md 檔案\n",
    "    for filename in os.listdir(folder_path):\n",
    "        if filename.endswith('.md'):\n",
    "            file_path = os.path.join(folder_path, filename)\n",
    "            with open(file_path, 'r', encoding='utf-8') as file:\n",
    "                file_contents = file.read()\n",
    "\n",
    "            # 尋找並替換所有的 .png 圖片連結\n",
    "            updated_contents = img_link_pattern.sub(lambda match: match.group().replace('.png', '.jpeg'), file_contents)\n",
    "\n",
    "            # 將更新後的內容寫回檔案\n",
    "            with open(file_path, 'w', encoding='utf-8') as file:\n",
    "                file.write(updated_contents)\n",
    "            print(f\"Updated image links in {filename}\")"
   ]
  },
  {
   "cell_type": "code",
   "execution_count": 7,
   "metadata": {},
   "outputs": [
    {
     "name": "stdout",
     "output_type": "stream",
     "text": [
      "Updated image links in 彈性力學 1.4.1 Ordinary Differential Equations.md\n",
      "Updated image links in 彈性力學 1.4.2 Fourier Series.md\n",
      "Updated image links in 彈性力學 1.4.3 Divergence Theorem.md\n",
      "Updated image links in 彈性力學 2.1 Plane Stress.md\n",
      "Updated image links in 彈性力學 2.2 Plane Strain.md\n",
      "Updated image links in 彈性力學 2.3 Differential Equations of Equilibrium.md\n",
      "Updated image links in 彈性力學 2.4 Compatibility Equations.md\n",
      "Updated image links in 彈性力學 2.5 Stress Function.md\n",
      "Updated image links in 彈性力學 3.1 End Effects, Saint Venant's Principle.md\n",
      "Updated image links in 彈性力學 3.2 Solution in the Form of a Fourier Series.md\n",
      "Updated image links in 彈性力學 4.1 Equilibrium Eq. in Polar Coordinates.md\n",
      "Updated image links in 彈性力學 4.2 Strain in Polar Coord.md\n",
      "Updated image links in 彈性力學 4.3 A Plate with a Circular Hole.md\n",
      "Updated image links in 彈性力學 4.4 Radially Symmetric Problem.md\n"
     ]
    }
   ],
   "source": [
    "# 使用範例\n",
    "folder_path = './YT Note'  # 將此路徑替換為您的 Markdown 檔案所在的資料夾路徑\n",
    "update_image_links_in_md(folder_path)"
   ]
  }
 ],
 "metadata": {
  "kernelspec": {
   "display_name": "JupyterLab",
   "language": "python",
   "name": "jupyterlab"
  },
  "language_info": {
   "codemirror_mode": {
    "name": "ipython",
    "version": 3
   },
   "file_extension": ".py",
   "mimetype": "text/x-python",
   "name": "python",
   "nbconvert_exporter": "python",
   "pygments_lexer": "ipython3",
   "version": "3.11.4"
  }
 },
 "nbformat": 4,
 "nbformat_minor": 2
}
