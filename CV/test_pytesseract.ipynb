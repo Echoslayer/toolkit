{
 "cells": [
  {
   "cell_type": "markdown",
   "metadata": {},
   "source": [
    "安裝流程:\n",
    "<a href=\"https://lufor129.medium.com/pytesseract-%E8%BE%A8%E8%AD%98%E5%9C%96%E7%89%87%E4%B8%AD%E7%9A%84%E6%96%87%E5%AD%97-b1024f678fac\">ref link</a> \n",
    "\n",
    "下載安裝檔: https://github.com/UB-Mannheim/tesseract/wiki \n",
    "\n",
    "安裝中文包並添加環境變數到PATH中 (C:\\Program Files\\Tesseract-OCR)\n",
    "\n",
    "cmd 輸入`tesseract -v`，有輸出代表成功"
   ]
  },
  {
   "cell_type": "code",
   "execution_count": 1,
   "metadata": {},
   "outputs": [
    {
     "name": "stdout",
     "output_type": "stream",
     "text": [
      "Collecting pytesseract\n",
      "  Downloading pytesseract-0.3.10-py3-none-any.whl.metadata (11 kB)\n",
      "Requirement already satisfied: packaging>=21.3 in f:\\code\\labenv\\lib\\site-packages (from pytesseract) (23.2)\n",
      "Requirement already satisfied: Pillow>=8.0.0 in f:\\code\\labenv\\lib\\site-packages (from pytesseract) (10.2.0)\n",
      "Downloading pytesseract-0.3.10-py3-none-any.whl (14 kB)\n",
      "Installing collected packages: pytesseract\n",
      "Successfully installed pytesseract-0.3.10\n"
     ]
    },
    {
     "name": "stderr",
     "output_type": "stream",
     "text": [
      "\n",
      "[notice] A new release of pip is available: 23.3.2 -> 24.0\n",
      "[notice] To update, run: python.exe -m pip install --upgrade pip\n"
     ]
    }
   ],
   "source": [
    "!pip install pytesseract"
   ]
  },
  {
   "cell_type": "code",
   "execution_count": 16,
   "metadata": {},
   "outputs": [
    {
     "name": "stdout",
     "output_type": "stream",
     "text": [
      "cpowssstemazwbem\n",
      "cpowsssyaemazwmdowspewersheiwt\n",
      "cXwNpowsvstsm3zopensshk\n",
      "cxuserspc-HenywepppatskRoamngvMioesoftwindowsst-\n",
      "creamrfieanode\n",
      "CreammfieaMioosovscodebi\n",
      "csemmfieaGieemd\n",
      "\n",
      "ceemmFieaGiomngwenbi\n",
      "\n",
      "DeATUagvunemeins4\n",
      "Daruasvbn\n",
      "\n",
      "cvpreewmrFieANvioGpu compotngToolawcuDAveoub\n",
      "cxprwswmFieaNvipAGpucomputng ToolkcupA9.0v.\n",
      "cpreemm Fieadoeee\n",
      "\n",
      "ssysemRooesseeyrem32\n",
      "\n",
      "AsyaemRootes\n",
      "\n",
      "ssyaemRooesvsystemazxwwbem\n",
      "ssvsTEMRoorsssyaemazwindowspewershelwt\n",
      "ssvsTgMRoorsssysemazxopenssh\n",
      "\n",
      "\n"
     ]
    }
   ],
   "source": [
    "import pytesseract\n",
    "from PIL import Image\n",
    "\n",
    "# 設置tesseract.exe的路徑（如果不在系統路徑中）\n",
    "pytesseract.pytesseract.tesseract_cmd = r'C:\\Program Files\\Tesseract-OCR\\tesseract.exe'\n",
    "\n",
    "# 打開圖片文件\n",
    "img = Image.open(r'F:\\Code\\Usuful Code\\螢幕擷取畫面 2024-03-28 174057.png')\n",
    "\n",
    "# 使用pytesseract讀取圖片中的文字\n",
    "text = pytesseract.image_to_string(img, lang='chi_tra+en')\n",
    "\n",
    "# 輸出讀取結果\n",
    "print(text)\n"
   ]
  },
  {
   "cell_type": "code",
   "execution_count": null,
   "metadata": {},
   "outputs": [],
   "source": []
  }
 ],
 "metadata": {
  "kernelspec": {
   "display_name": "JupyterLab",
   "language": "python",
   "name": "jupyterlab"
  },
  "language_info": {
   "codemirror_mode": {
    "name": "ipython",
    "version": 3
   },
   "file_extension": ".py",
   "mimetype": "text/x-python",
   "name": "python",
   "nbconvert_exporter": "python",
   "pygments_lexer": "ipython3",
   "version": "3.11.4"
  }
 },
 "nbformat": 4,
 "nbformat_minor": 2
}
