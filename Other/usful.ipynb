{
 "cells": [
  {
   "cell_type": "code",
   "execution_count": null,
   "metadata": {},
   "outputs": [
    {
     "ename": "",
     "evalue": "",
     "output_type": "error",
     "traceback": [
      "\u001b[1;31mRunning cells with 'c:\\Users\\112033645\\AppData\\Local\\Programs\\Python\\Python312\\python.exe' requires the ipykernel package.\n",
      "\u001b[1;31mRun the following command to install 'ipykernel' into the Python environment. \n",
      "\u001b[1;31mCommand: 'c:/Users/112033645/AppData/Local/Programs/Python/Python312/python.exe -m pip install ipykernel -U --user --force-reinstall'"
     ]
    }
   ],
   "source": [
    "%appdata%\n",
    "\n",
    "# {\"python.pythonPath\": \"C:\\\\Users\\\\Wizard\\\\AppData\\\\Local\\\\Programs\\\\Python\\\\Python36\\\\python.exe\",\n",
    "# \"python.linting.enabled\": true,\n",
    "# \"python.linting.pylintEnabled\": true,\n",
    "# \"terminal.integrated.env.osx\": {\n",
    "#     \"PATH\": \"C:\\\\Users\\\\Wizard\\\\AppData\\\\Local\\\\Programs\\\\Python\\\\Python36\\\\python.exe\"\n",
    "# }\n",
    "\n",
    "alias python='\"/c/Users/Wizard/AppData/Local/Programs/Python/Python38/python.exe\"'\n",
    "Set-Alias python 'C:\\Users\\Wizard\\AppData\\Local\\Programs\\Python\\Python38\\python.exe'\n",
    "\n",
    "python --version"
   ]
  },
  {
   "cell_type": "markdown",
   "metadata": {},
   "source": [
    "**虛擬環境**\n",
    "創建新的虛擬環境 windows:\n",
    "python -m venv LabENV\n",
    "\n",
    "**啟用環境**\n",
    "myenv\\Scripts\\activate\n",
    "LabENV\\Scripts\\activate\n",
    "advanced\\Scripts\\activate\n",
    "jupyter_kernal\\Scripts\\activate\n",
    "\n",
    "**mac/linux**\n",
    "source myenv/bin/activate\n",
    "\n",
    "**停用**\n",
    "deactivate\n",
    "\n",
    "**刪除虛擬環境資料夾**\n",
    "Remove-Item -Recurse -Force \".\\JupyterLapTop\"\n",
    "rmdir /s /q \"path\\to\\JupyterLapTop\"\n",
    "\n",
    "**VS Code 終端機中設定執行政策**\n",
    "Set-ExecutionPolicy RemoteSigned -Scope Process\n",
    "myenv\\Scripts\\activate\n",
    "\n",
    "**執行原則網站**\n",
    "https://learn.microsoft.com/zh-tw/powershell/module/microsoft.powershell.core/about/about_execution_policies?view=powershell-7.3\n",
    "\n",
    "**jupyter**\n",
    "pip install jupyter\n",
    "pip install ipykernel\n",
    "\n",
    "python -m ipykernel install --user --name=JupyterLab\n",
    "\n",
    "jupyter kernelspec list\n",
    "**除特定的 Kernel：**\n",
    "jupyter kernelspec uninstall my_new_env\n",
    "\n",
    "\n",
    "<!-- 將 laptopenv 綁定到 myjupyter Kernel -->\n",
    "<!-- 使用以下命令將 laptopenv 虛擬環境註冊為名為 myjupyter 的 Jupyter Kernel： -->\n",
    "python -m ipykernel install --user --name=jupyter_kernal --display-name=\"myjupyterkernal\""
   ]
  },
  {
   "cell_type": "code",
   "execution_count": null,
   "metadata": {},
   "outputs": [],
   "source": [
    "D:\n",
    "cd '.\\course Related\\code'\n",
    "jupyter_kernal\\Scripts\\activate"
   ]
  },
  {
   "cell_type": "code",
   "execution_count": null,
   "metadata": {},
   "outputs": [],
   "source": [
    "cd 31~40\n",
    "python main.py"
   ]
  },
  {
   "cell_type": "code",
   "execution_count": null,
   "metadata": {},
   "outputs": [],
   "source": [
    "pip指令\n",
    "pip list\n",
    "!pip show spotipy\n",
    "\n",
    "pip install -r requirements.txt\n",
    "\n",
    "pip install --upgrade --force-reinstall -r requirements.txt"
   ]
  },
  {
   "cell_type": "markdown",
   "metadata": {},
   "source": [
    "day29 env\n",
    "python -m pip install pandas numpy pyperclip"
   ]
  },
  {
   "cell_type": "code",
   "execution_count": null,
   "metadata": {},
   "outputs": [],
   "source": [
    "pip install jupyter ipykernel\n",
    "python -m ipykernel install --user --name=myenv"
   ]
  },
  {
   "cell_type": "markdown",
   "metadata": {},
   "source": [
    "**環境變數**\n",
    "在 PowerShell 中：\n",
    "\n",
    "- 設定：[System.Environment]::SetEnvironmentVariable('NAME', 'VALUE', 'User')\n",
    "查看：Get-ChildItem Env:\n",
    "\n",
    "- 使用 setx：此方法會將環境變數保存到用戶或系統環境中，即使關閉 PowerShell 窗口也會保留。\n",
    "<!-- $env:Ommmmm_test = \"1313216544afdhg321gdfh\" -->\n",
    "\n",
    "**刪除環境變數**\n",
    "方法1：使用 [System.Environment]::SetEnvironmentVariable\n",
    "您可以將變數值設置為 null 以刪除它。下面的命令將刪除名為 MyTestVariable 的用戶範疇的環境變數：\n",
    "\n",
    "powershell\n",
    "Copy code\n",
    "[System.Environment]::SetEnvironmentVariable('MyTestVariable', $null, 'User')\n",
    "方法2：使用 Remove-Item\n",
    "這個方法對於當前 PowerShell 會話中的變數是有效的。\n",
    "\n",
    "powershell\n",
    "Copy code\n",
    "Remove-Item Env:MyTestVariable\n",
    "注意：這僅從當前會話中刪除變數，不會從用戶或系統環境變數中刪除它。\n",
    "\n"
   ]
  },
  {
   "cell_type": "code",
   "execution_count": null,
   "metadata": {},
   "outputs": [],
   "source": [
    "異常（Exceptions）\n",
    "當語法都正確，但在執行過程中出問題時，會產生異常。以下是一些常見的異常類型：\n",
    "\n",
    "ValueError: 當函數的參數類型正確，但值不正確時。\n",
    "TypeError: 傳遞到函數的參數類型不正確。\n",
    "IndexError: 當你試圖訪問的索引不存在。\n",
    "KeyError: 當字典中不存在指定的鍵。\n",
    "FileNotFoundError: 當試圖打開一個不存在的文件。\n",
    "ZeroDivisionError: 當除數為零。\n",
    "ImportError: 當導入一個不存在的模塊。\n",
    "ModuleNotFoundError: 當導入模塊不存在（Python 3.6+）。\n",
    "NameError: 當一個名稱（變量）未被定義。\n",
    "AttributeError: 當對象沒有這個屬性。\n",
    "RuntimeError: 一個未分類的執行時錯誤。\n",
    "NotImplementedError: 當一個抽象方法在子類中沒有實現。"
   ]
  },
  {
   "cell_type": "markdown",
   "metadata": {},
   "source": [
    "**shell prompt**\n",
    "pwd\n",
    "ls\n",
    "cd\n",
    "mkdir test\n",
    "touch main.py\n",
    "<!-- rm main.py -->\n",
    "<!-- rm -rf test -->\n",
    "http://www.cs.columbia.edu/~sedwards/classes/2015/1102-fall/Command%20Prompt%20Cheatsheet.pdf\n",
    "https://github.com/appbrewery/terminal-mac-cheatsheet"
   ]
  },
  {
   "cell_type": "markdown",
   "metadata": {},
   "source": [
    "**For web**\n",
    "shift+reload btn --> hard reload  \n",
    "chrome developer console --> document.body.contentEditable=true\n"
   ]
  },
  {
   "cell_type": "markdown",
   "metadata": {},
   "source": [
    "# DB\n",
    "\n",
    "1. **安裝並設置 Flask-Migrate**：\n",
    "   - 如之前所述，首先安裝 Flask-Migrate（如果還沒有安裝的話）：\n",
    "     ```bash\n",
    "     pip install Flask-Migrate\n",
    "     ```\n",
    "   - 在您的應用程式中初始化 Flask-Migrate：\n",
    "     ```python\n",
    "     from flask_migrate import Migrate\n",
    "\n",
    "     # ...\n",
    "\n",
    "     migrate = Migrate(app, db)\n",
    "     ```\n",
    "\n",
    "2. **生成和應用遷移**：\n",
    "   - 接下來，生成一個新的遷移，它會檢測到 `BlogPost` 表的結構改變（新增 `author_id` 外鍵）：\n",
    "     ```bash\n",
    "     flask db init      # 如果還沒有初始化遷移目錄\n",
    "     flask db migrate   # 生成遷移腳本\n",
    "     flask db upgrade   # 應用遷移到資料庫\n",
    "     ```\n",
    "\n",
    "3. **確認遷移**：\n",
    "   - 確保遷移腳本正確地反映了您的模型改變。有時可能需要手動調整生成的遷移腳本，以確保正確地應用了所有更改。\n",
    "\n",
    "4. **測試應用程式**：\n",
    "   - 在應用遷移後，重新啟動您的 Flask 應用程式並進行測試，以確保一切工作正常。\n",
    "\n",
    "5. **數據遷移**：\n",
    "   - 如果您的 `blog_posts` 表中已經有現有數據，您可能需要進行一些數據遷移，以填充新的 `author_id` 欄位。\n",
    "\n",
    "進行這些步驟後，資料庫應該會更新以匹配您的新模型定義，並解決「no such column: blog_posts.author_id」的錯誤。這些步驟對於保持您的應用程式的數據模型和資料庫架構同步非常重要。"
   ]
  }
 ],
 "metadata": {
  "kernelspec": {
   "display_name": "Python 3",
   "language": "python",
   "name": "python3"
  },
  "language_info": {
   "codemirror_mode": {
    "name": "ipython",
    "version": 3
   },
   "file_extension": ".py",
   "mimetype": "text/x-python",
   "name": "python",
   "nbconvert_exporter": "python",
   "pygments_lexer": "ipython3",
   "version": "3.12.1"
  },
  "orig_nbformat": 4
 },
 "nbformat": 4,
 "nbformat_minor": 2
}
