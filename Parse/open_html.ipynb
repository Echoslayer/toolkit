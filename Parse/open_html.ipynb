{
 "cells": [
  {
   "cell_type": "code",
   "execution_count": 2,
   "metadata": {},
   "outputs": [
    {
     "data": {
      "text/html": [
       "<div>\n",
       "<style scoped>\n",
       "    .dataframe tbody tr th:only-of-type {\n",
       "        vertical-align: middle;\n",
       "    }\n",
       "\n",
       "    .dataframe tbody tr th {\n",
       "        vertical-align: top;\n",
       "    }\n",
       "\n",
       "    .dataframe thead th {\n",
       "        text-align: right;\n",
       "    }\n",
       "</style>\n",
       "<table border=\"1\" class=\"dataframe\">\n",
       "  <thead>\n",
       "    <tr style=\"text-align: right;\">\n",
       "      <th></th>\n",
       "      <th>title</th>\n",
       "      <th>href</th>\n",
       "      <th>save</th>\n",
       "    </tr>\n",
       "  </thead>\n",
       "  <tbody>\n",
       "    <tr>\n",
       "      <th>0</th>\n",
       "      <td>如何從聊天辨識出「女裝男」的「變性人」？ &lt;攻城包＃335＞</td>\n",
       "      <td>https://www.pressplay.cc/project/8DB74C4CEC521...</td>\n",
       "      <td>Saved</td>\n",
       "    </tr>\n",
       "    <tr>\n",
       "      <th>1</th>\n",
       "      <td>我遇到隱瞞自己男性身份的「變性人」＜攻城包＃334＞</td>\n",
       "      <td>https://www.pressplay.cc/project/8DB74C4CEC521...</td>\n",
       "      <td>Saved</td>\n",
       "    </tr>\n",
       "    <tr>\n",
       "      <th>2</th>\n",
       "      <td>從熱到冷，女性自我拒絕實例 ＜攻城包＃333＞</td>\n",
       "      <td>https://www.pressplay.cc/project/8DB74C4CEC521...</td>\n",
       "      <td>Saved</td>\n",
       "    </tr>\n",
       "    <tr>\n",
       "      <th>3</th>\n",
       "      <td>老中醫的房中養生性愛袐訣 ＜攻城包＃332 紅色房中術＞</td>\n",
       "      <td>https://www.pressplay.cc/project/8DB74C4CEC521...</td>\n",
       "      <td>Saved</td>\n",
       "    </tr>\n",
       "    <tr>\n",
       "      <th>4</th>\n",
       "      <td>最好的春藥（下） ＜攻城包＃331 紅色房中術＞</td>\n",
       "      <td>https://www.pressplay.cc/project/8DB74C4CEC521...</td>\n",
       "      <td>Saved</td>\n",
       "    </tr>\n",
       "    <tr>\n",
       "      <th>...</th>\n",
       "      <td>...</td>\n",
       "      <td>...</td>\n",
       "      <td>...</td>\n",
       "    </tr>\n",
       "    <tr>\n",
       "      <th>333</th>\n",
       "      <td>運用遊戲技巧的萬用開場白〈攻城包＃５〉</td>\n",
       "      <td>https://www.pressplay.cc/project/8DB74C4CEC521...</td>\n",
       "      <td>NaN</td>\n",
       "    </tr>\n",
       "    <tr>\n",
       "      <th>334</th>\n",
       "      <td>運用女人心理弱點讓她秒回 ! 〈攻城包＃4 〉</td>\n",
       "      <td>https://www.pressplay.cc/project/8DB74C4CEC521...</td>\n",
       "      <td>NaN</td>\n",
       "    </tr>\n",
       "    <tr>\n",
       "      <th>335</th>\n",
       "      <td>冷讀猜心+幽默搞笑＝曖昧昇溫〈幽默篇：攻城包＃3〉</td>\n",
       "      <td>https://www.pressplay.cc/project/8DB74C4CEC521...</td>\n",
       "      <td>NaN</td>\n",
       "    </tr>\n",
       "    <tr>\n",
       "      <th>336</th>\n",
       "      <td>讓女人有感覺 ! 三個必背萬用冷讀聊天話術〈攻城包＃2〉</td>\n",
       "      <td>https://www.pressplay.cc/project/8DB74C4CEC521...</td>\n",
       "      <td>NaN</td>\n",
       "    </tr>\n",
       "    <tr>\n",
       "      <th>337</th>\n",
       "      <td>「不敗」的要Line話術，我用這招要了500個以上的LINE〈聊天攻城包＃1〉</td>\n",
       "      <td>https://www.pressplay.cc/project/8DB74C4CEC521...</td>\n",
       "      <td>NaN</td>\n",
       "    </tr>\n",
       "  </tbody>\n",
       "</table>\n",
       "<p>338 rows × 3 columns</p>\n",
       "</div>"
      ],
      "text/plain": [
       "                                       title  \\\n",
       "0             如何從聊天辨識出「女裝男」的「變性人」？ <攻城包＃335＞   \n",
       "1                 我遇到隱瞞自己男性身份的「變性人」＜攻城包＃334＞   \n",
       "2                    從熱到冷，女性自我拒絕實例 ＜攻城包＃333＞   \n",
       "3               老中醫的房中養生性愛袐訣 ＜攻城包＃332 紅色房中術＞   \n",
       "4                   最好的春藥（下） ＜攻城包＃331 紅色房中術＞   \n",
       "..                                       ...   \n",
       "333                      運用遊戲技巧的萬用開場白〈攻城包＃５〉   \n",
       "334                  運用女人心理弱點讓她秒回 ! 〈攻城包＃4 〉   \n",
       "335                冷讀猜心+幽默搞笑＝曖昧昇溫〈幽默篇：攻城包＃3〉   \n",
       "336             讓女人有感覺 ! 三個必背萬用冷讀聊天話術〈攻城包＃2〉   \n",
       "337  「不敗」的要Line話術，我用這招要了500個以上的LINE〈聊天攻城包＃1〉   \n",
       "\n",
       "                                                  href   save  \n",
       "0    https://www.pressplay.cc/project/8DB74C4CEC521...  Saved  \n",
       "1    https://www.pressplay.cc/project/8DB74C4CEC521...  Saved  \n",
       "2    https://www.pressplay.cc/project/8DB74C4CEC521...  Saved  \n",
       "3    https://www.pressplay.cc/project/8DB74C4CEC521...  Saved  \n",
       "4    https://www.pressplay.cc/project/8DB74C4CEC521...  Saved  \n",
       "..                                                 ...    ...  \n",
       "333  https://www.pressplay.cc/project/8DB74C4CEC521...    NaN  \n",
       "334  https://www.pressplay.cc/project/8DB74C4CEC521...    NaN  \n",
       "335  https://www.pressplay.cc/project/8DB74C4CEC521...    NaN  \n",
       "336  https://www.pressplay.cc/project/8DB74C4CEC521...    NaN  \n",
       "337  https://www.pressplay.cc/project/8DB74C4CEC521...    NaN  \n",
       "\n",
       "[338 rows x 3 columns]"
      ]
     },
     "execution_count": 2,
     "metadata": {},
     "output_type": "execute_result"
    }
   ],
   "source": [
    "import pandas as pd\n",
    "import os\n",
    "\n",
    "save_folder = \"./Pages\"  \n",
    "csv_name = \"攻城包.csv\"\n",
    "csv_path = os.path.join(save_folder, csv_name)\n",
    "\n",
    "df = pd.read_csv(csv_path)\n",
    "df"
   ]
  },
  {
   "cell_type": "code",
   "execution_count": 23,
   "metadata": {},
   "outputs": [],
   "source": [
    "from selenium import webdriver\n",
    "\n",
    "chrome_option = webdriver.ChromeOptions()\n",
    "chrome_option.add_experimental_option(\"detach\", True)\n",
    "\n",
    "driver = webdriver.Chrome(options=chrome_option)"
   ]
  },
  {
   "cell_type": "code",
   "execution_count": 24,
   "metadata": {},
   "outputs": [],
   "source": [
    "import os\n",
    "from urllib.request import pathname2url  # Corrected import\n",
    "\n",
    "# Assuming df and driver have been defined and initialized\n",
    "folder = \"./Pages/攻城包\"\n",
    "title = df[\"title\"].iloc[100]\n",
    "page_name_sanitized = \"\".join([c if c not in \"\\\\/:*?\\\"<>|\" else \"_\" for c in title]) + \" - PressPlay.html\"\n",
    "html_path = os.path.join(folder, page_name_sanitized)\n",
    "\n",
    "# Getting the absolute path\n",
    "absolute_html_path = os.path.abspath(html_path)\n",
    "\n",
    "# Converting the path to a URL format\n",
    "url_path = pathname2url(absolute_html_path)\n",
    "\n",
    "# Forming the correct file URL\n",
    "file_url = f\"file:///{url_path}\"\n",
    "\n",
    "# Using the file URL with WebDriver\n",
    "driver.get(file_url)\n"
   ]
  },
  {
   "cell_type": "code",
   "execution_count": 10,
   "metadata": {},
   "outputs": [
    {
     "data": {
      "text/plain": [
       "'g:\\\\我的雲端硬碟\\\\Course\\\\toolkit\\\\Parse\\\\Pages\\\\攻城包\\\\我遇到隱瞞自己男性身份的「變性人」＜攻城包＃334＞.html'"
      ]
     },
     "execution_count": 10,
     "metadata": {},
     "output_type": "execute_result"
    }
   ],
   "source": [
    "absolute_html_path"
   ]
  }
 ],
 "metadata": {
  "kernelspec": {
   "display_name": "CVEnv",
   "language": "python",
   "name": "cvenv"
  },
  "language_info": {
   "codemirror_mode": {
    "name": "ipython",
    "version": 3
   },
   "file_extension": ".py",
   "mimetype": "text/x-python",
   "name": "python",
   "nbconvert_exporter": "python",
   "pygments_lexer": "ipython3",
   "version": "3.8.16"
  }
 },
 "nbformat": 4,
 "nbformat_minor": 2
}
