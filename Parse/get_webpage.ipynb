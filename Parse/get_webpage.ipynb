{
 "cells": [
  {
   "cell_type": "code",
   "execution_count": 1,
   "metadata": {},
   "outputs": [
    {
     "data": {
      "text/plain": [
       "'g:\\\\我的雲端硬碟\\\\Course\\\\Obsidian\\\\Code'"
      ]
     },
     "execution_count": 1,
     "metadata": {},
     "output_type": "execute_result"
    }
   ],
   "source": [
    "%pwd"
   ]
  },
  {
   "cell_type": "code",
   "execution_count": 2,
   "metadata": {},
   "outputs": [],
   "source": [
    "mypwd = \n",
    "myemail = "
   ]
  },
  {
   "cell_type": "code",
   "execution_count": 3,
   "metadata": {},
   "outputs": [],
   "source": [
    "from selenium import webdriver\n",
    "from selenium.webdriver.common.keys import Keys\n",
    "from selenium.common.exceptions import ElementClickInterceptedException, NoSuchElementException\n",
    "from selenium.webdriver.common.by import By\n",
    "from selenium.webdriver.support.ui import WebDriverWait\n",
    "from selenium.webdriver.support import expected_conditions as EC\n",
    "import random\n",
    "from time import sleep\n",
    "\n",
    "chrome_option = webdriver.ChromeOptions()\n",
    "chrome_option.add_experimental_option(\"detach\", True)\n",
    "\n",
    "driver = webdriver.Chrome(options=chrome_option)\n",
    "driver.get(\"https://www.pressplay.cc/project/8DB74C4CEC521004C8BF9783553ADCEA/about\")\n"
   ]
  },
  {
   "cell_type": "code",
   "execution_count": 13,
   "metadata": {},
   "outputs": [],
   "source": [
    "import random\n",
    "from time import sleep\n",
    "import time\n",
    "\n",
    "def scroll_to_bottom(driver, scroll_pause_time=1, scroll_time=None):\n",
    "    # 每次滑動後暫停的時間（秒）\n",
    "    screen_height = driver.execute_script(\"return window.innerHeight\")  # 獲取螢幕高度\n",
    "    scroll_speed = random.uniform(0.3, 1)  # 初始滑動速度\n",
    "    scrolled_height = 0  # 已滑動的高度\n",
    "    total_time = 0  # 總滑動時間\n",
    "    \n",
    "    start_time = time.time()  # 記錄開始滾動的時間\n",
    "    \n",
    "    while True:\n",
    "        # 滑動一定比例的螢幕高度\n",
    "        driver.execute_script(f\"window.scrollTo(0, {screen_height * scroll_speed + scrolled_height});\")\n",
    "        scrolled_height += screen_height * scroll_speed\n",
    "        scroll_speed *= 1.1  # 增加滑動速度\n",
    "        sleep(scroll_pause_time)\n",
    "        \n",
    "        # 更新總滑動時間\n",
    "        total_time = time.time() - start_time\n",
    "\n",
    "        # 檢查是否到達頁面底部\n",
    "        scroll_height = driver.execute_script(\"return document.body.scrollHeight\")\n",
    "        if scrolled_height >= scroll_height:\n",
    "            break\n",
    "\n",
    "        # 如果設定了最大滾動時間且已超過，則中斷滾動\n",
    "        if scroll_time and total_time >= scroll_time:\n",
    "            break\n"
   ]
  },
  {
   "cell_type": "code",
   "execution_count": 4,
   "metadata": {},
   "outputs": [
    {
     "ename": "NameError",
     "evalue": "name 'scroll_to_bottom' is not defined",
     "output_type": "error",
     "traceback": [
      "\u001b[1;31m---------------------------------------------------------------------------\u001b[0m",
      "\u001b[1;31mNameError\u001b[0m                                 Traceback (most recent call last)",
      "Cell \u001b[1;32mIn[4], line 1\u001b[0m\n\u001b[1;32m----> 1\u001b[0m \u001b[43mscroll_to_bottom\u001b[49m(driver)\n",
      "\u001b[1;31mNameError\u001b[0m: name 'scroll_to_bottom' is not defined"
     ]
    }
   ],
   "source": [
    "scroll_to_bottom(driver)"
   ]
  },
  {
   "cell_type": "code",
   "execution_count": 78,
   "metadata": {},
   "outputs": [
    {
     "name": "stdout",
     "output_type": "stream",
     "text": [
      "Error: Message: \n",
      "Stacktrace:\n",
      "\tGetHandleVerifier [0x00007FF6F38E7012+3522402]\n",
      "\t(No symbol) [0x00007FF6F3508352]\n",
      "\t(No symbol) [0x00007FF6F33B5ABB]\n",
      "\t(No symbol) [0x00007FF6F33FBF0E]\n",
      "\t(No symbol) [0x00007FF6F33FC08C]\n",
      "\t(No symbol) [0x00007FF6F343E437]\n",
      "\t(No symbol) [0x00007FF6F341F09F]\n",
      "\t(No symbol) [0x00007FF6F343BDA3]\n",
      "\t(No symbol) [0x00007FF6F341EE03]\n",
      "\t(No symbol) [0x00007FF6F33EF4D4]\n",
      "\t(No symbol) [0x00007FF6F33F05F1]\n",
      "\tGetHandleVerifier [0x00007FF6F3919B9D+3730157]\n",
      "\tGetHandleVerifier [0x00007FF6F396F02D+4079485]\n",
      "\tGetHandleVerifier [0x00007FF6F39675D3+4048163]\n",
      "\tGetHandleVerifier [0x00007FF6F363A649+718233]\n",
      "\t(No symbol) [0x00007FF6F3514A3F]\n",
      "\t(No symbol) [0x00007FF6F350FA94]\n",
      "\t(No symbol) [0x00007FF6F350FBC2]\n",
      "\t(No symbol) [0x00007FF6F34FF2E4]\n",
      "\tBaseThreadInitThunk [0x00007FF86944257D+29]\n",
      "\tRtlUserThreadStart [0x00007FF86A64AA58+40]\n",
      "\n"
     ]
    }
   ],
   "source": [
    "from selenium.webdriver.common.action_chains import ActionChains\n",
    "\n",
    "try:\n",
    "    more_intro_button = WebDriverWait(driver, 10).until(\n",
    "        EC.element_to_be_clickable((By.XPATH, \"//div[@role='button'][contains(., '更多介紹')]\"))\n",
    "    )\n",
    "    ActionChains(driver).move_to_element(more_intro_button).click().perform()\n",
    "except Exception as e:\n",
    "    print(f\"Error: {e}\")\n",
    "\n",
    "try:\n",
    "    more_intro_button = WebDriverWait(driver, 10).until(\n",
    "        EC.element_to_be_clickable((By.XPATH, \"//div[@role='button'][contains(., '顯示全部')]\"))\n",
    "    )\n",
    "    ActionChains(driver).move_to_element(more_intro_button).click().perform()\n",
    "except Exception as e:\n",
    "    print(f\"Error: {e}\")\n"
   ]
  },
  {
   "cell_type": "code",
   "execution_count": 6,
   "metadata": {},
   "outputs": [
    {
     "name": "stdout",
     "output_type": "stream",
     "text": [
      "真正的「九淺一深」技術 ＜攻城包＃328＞\n",
      "做愛的本質是穴道按摩 ＜兵法書＃328＞\n",
      "憂鬱是生存必備的「省電模式」＜兵法書＃327 懶較大智慧＞\n",
      "享受孤獨的「前提」是什麼？ ＜兵法書＃326＞\n",
      "顏文字速約：盲砲精神 ＜攻城包＃326＞\n",
      "相似性聊天法 ＜攻城包＃325＞\n",
      "如何成為「自律」的男人 ＜兵法書＃324＞\n",
      "開不了口？老派開場白舊是潮！＜攻城包＃323＞\n",
      "負面思考與正向行動 ＜兵法書＃323＞\n",
      "https://www.pressplay.cc/project/8DB74C4CEC521004C8BF9783553ADCEA/articles/E36AE1D39575391773271A795C3F7FF5\n",
      "https://www.pressplay.cc/project/8DB74C4CEC521004C8BF9783553ADCEA/articles/2DFA8239A53720D928F3CD0B6402F766\n",
      "https://www.pressplay.cc/project/8DB74C4CEC521004C8BF9783553ADCEA/articles/1E38BAF14B2949213712B07DA13F6E50\n",
      "https://www.pressplay.cc/project/8DB74C4CEC521004C8BF9783553ADCEA/articles/2AA0C1AC78BDB79B00908669B58FE1C3\n",
      "https://www.pressplay.cc/project/8DB74C4CEC521004C8BF9783553ADCEA/articles/FF89BC88AC7A38F92E5D77AFCD97C2B1\n",
      "https://www.pressplay.cc/project/8DB74C4CEC521004C8BF9783553ADCEA/articles/C5F0856ADD0CCD5D3A10BE8A96181D44\n",
      "https://www.pressplay.cc/project/8DB74C4CEC521004C8BF9783553ADCEA/articles/4D23D68D066746671C3CE441DE522DA5\n",
      "https://www.pressplay.cc/project/8DB74C4CEC521004C8BF9783553ADCEA/articles/DF294EA111FFC30DBAA9D0508D99EE48\n",
      "https://www.pressplay.cc/project/8DB74C4CEC521004C8BF9783553ADCEA/articles/46FA1F01D8788D8FEC01656A46B1EEEE\n"
     ]
    }
   ],
   "source": [
    "# 找出所有的 article-card-container 元素\n",
    "article_card_containers = driver.find_elements(By.CLASS_NAME, \"article-card-container\")\n",
    "\n",
    "# 提取每個元素中的 span 內容\n",
    "span_contents = []\n",
    "for container in article_card_containers:\n",
    "    span_content = container.find_element(By.TAG_NAME, \"span\").text\n",
    "    span_contents.append(span_content)\n",
    "\n",
    "# 輸出 span_contents\n",
    "for content in span_contents:\n",
    "    print(content)\n",
    "\n",
    "# 找出所有的 article-card-container 元素\n",
    "article_card_containers = driver.find_elements(By.CLASS_NAME, \"article-card-container\")\n",
    "\n",
    "# 提取每個元素中的 href 屬性\n",
    "hrefs = []\n",
    "for container in article_card_containers:\n",
    "    href = container.find_element(By.TAG_NAME, \"a\").get_attribute(\"href\")\n",
    "    hrefs.append(href)\n",
    "\n",
    "# 輸出 hrefs\n",
    "for href in hrefs:\n",
    "    print(href)"
   ]
  },
  {
   "cell_type": "code",
   "execution_count": 7,
   "metadata": {},
   "outputs": [
    {
     "name": "stdout",
     "output_type": "stream",
     "text": [
      "標題文字: ['真正的「九淺一深」技術 ', '做愛的本質是穴道按摩 ', None, '享受孤獨的「前提」是什麼？ ', '顏文字速約：盲砲精神 ', '相似性聊天法 ', '如何成為「自律」的男人 ', '開不了口？老派開場白舊是潮！', '負面思考與正向行動 ']\n",
      "類型: ['攻城包', '兵法書', None, '兵法書', '攻城包', '攻城包', '兵法書', '攻城包', '兵法書']\n",
      "編號: ['328', '328', None, '326', '326', '325', '324', '323', '323']\n"
     ]
    }
   ],
   "source": [
    "import re\n",
    "\n",
    "# 初始化儲存類型和編號的列表\n",
    "types = []\n",
    "numbers = []\n",
    "titles_text = []\n",
    "\n",
    "# 正則表達式模式\n",
    "pattern = r\"＜(.*?)＃(\\d+)＞\"\n",
    "\n",
    "# 提取每個標題中的類型和編號\n",
    "for title in span_contents:\n",
    "    match = re.search(pattern, title)\n",
    "    if match:\n",
    "        modified_title = re.sub(pattern, \"\", title)\n",
    "        titles_text.append(modified_title)\n",
    "        types.append(match.group(1))\n",
    "        numbers.append(match.group(2))\n",
    "    else:\n",
    "        titles_text.append(None)\n",
    "        types.append(None)\n",
    "        numbers.append(None)\n",
    "\n",
    "# 輸出結果\n",
    "print(\"標題文字:\", titles_text)\n",
    "print(\"類型:\", types)\n",
    "print(\"編號:\", numbers)\n"
   ]
  },
  {
   "cell_type": "code",
   "execution_count": 8,
   "metadata": {},
   "outputs": [
    {
     "name": "stdout",
     "output_type": "stream",
     "text": [
      "                           title number  type      title_text  \\\n",
      "0          真正的「九淺一深」技術 ＜攻城包＃328＞    328   攻城包    真正的「九淺一深」技術    \n",
      "1           做愛的本質是穴道按摩 ＜兵法書＃328＞    328   兵法書     做愛的本質是穴道按摩    \n",
      "2  憂鬱是生存必備的「省電模式」＜兵法書＃327 懶較大智慧＞   None  None            None   \n",
      "3        享受孤獨的「前提」是什麼？ ＜兵法書＃326＞    326   兵法書  享受孤獨的「前提」是什麼？    \n",
      "4           顏文字速約：盲砲精神 ＜攻城包＃326＞    326   攻城包     顏文字速約：盲砲精神    \n",
      "5               相似性聊天法 ＜攻城包＃325＞    325   攻城包         相似性聊天法    \n",
      "6          如何成為「自律」的男人 ＜兵法書＃324＞    324   兵法書    如何成為「自律」的男人    \n",
      "7        開不了口？老派開場白舊是潮！＜攻城包＃323＞    323   攻城包  開不了口？老派開場白舊是潮！   \n",
      "8            負面思考與正向行動 ＜兵法書＃323＞    323   兵法書      負面思考與正向行動    \n",
      "\n",
      "                                                link exist  \n",
      "0  https://www.pressplay.cc/project/8DB74C4CEC521...        \n",
      "1  https://www.pressplay.cc/project/8DB74C4CEC521...        \n",
      "2  https://www.pressplay.cc/project/8DB74C4CEC521...        \n",
      "3  https://www.pressplay.cc/project/8DB74C4CEC521...        \n",
      "4  https://www.pressplay.cc/project/8DB74C4CEC521...        \n",
      "5  https://www.pressplay.cc/project/8DB74C4CEC521...        \n",
      "6  https://www.pressplay.cc/project/8DB74C4CEC521...        \n",
      "7  https://www.pressplay.cc/project/8DB74C4CEC521...        \n",
      "8  https://www.pressplay.cc/project/8DB74C4CEC521...        \n"
     ]
    }
   ],
   "source": [
    "import pandas as pd\n",
    "\n",
    "# 組合 span 內容和 href 屬性\n",
    "data = {\n",
    "    \"title\": span_contents,\n",
    "    \"number\": numbers,\n",
    "    \"type\": types,\n",
    "    \"title_text\": titles_text,\n",
    "    \"link\": hrefs,\n",
    "    \"exist\": \"\"\n",
    "}\n",
    "\n",
    "# 建立 pandas DataFrame\n",
    "df = pd.DataFrame(data)\n",
    "\n",
    "try:\n",
    "    existing_df = pd.read_csv(\"pressplay.csv\")\n",
    "    df = pd.concat([existing_df, df], ignore_index=True)\n",
    "except FileNotFoundError:\n",
    "    pass\n",
    "\n",
    "# 刪除重複的標題\n",
    "df.drop_duplicates(subset=[\"title\"], keep=\"first\", inplace=True)\n",
    "\n",
    "# 輸出 DataFrame\n",
    "print(df)"
   ]
  },
  {
   "cell_type": "code",
   "execution_count": 83,
   "metadata": {},
   "outputs": [],
   "source": [
    "import os\n",
    "\n",
    "# 檢查資料夾是否存在\n",
    "if not os.path.exists(\"./Pages\"):\n",
    "    # 創建資料夾\n",
    "    os.makedirs(\"./Pages\")"
   ]
  },
  {
   "cell_type": "code",
   "execution_count": 9,
   "metadata": {},
   "outputs": [
    {
     "data": {
      "text/html": [
       "<div>\n",
       "<style scoped>\n",
       "    .dataframe tbody tr th:only-of-type {\n",
       "        vertical-align: middle;\n",
       "    }\n",
       "\n",
       "    .dataframe tbody tr th {\n",
       "        vertical-align: top;\n",
       "    }\n",
       "\n",
       "    .dataframe thead th {\n",
       "        text-align: right;\n",
       "    }\n",
       "</style>\n",
       "<table border=\"1\" class=\"dataframe\">\n",
       "  <thead>\n",
       "    <tr style=\"text-align: right;\">\n",
       "      <th></th>\n",
       "      <th>title</th>\n",
       "      <th>number</th>\n",
       "      <th>type</th>\n",
       "      <th>title_text</th>\n",
       "      <th>link</th>\n",
       "      <th>exist</th>\n",
       "    </tr>\n",
       "  </thead>\n",
       "  <tbody>\n",
       "    <tr>\n",
       "      <th>0</th>\n",
       "      <td>真正的「九淺一深」技術 ＜攻城包＃328＞</td>\n",
       "      <td>328</td>\n",
       "      <td>攻城包</td>\n",
       "      <td>真正的「九淺一深」技術</td>\n",
       "      <td>https://www.pressplay.cc/project/8DB74C4CEC521...</td>\n",
       "      <td></td>\n",
       "    </tr>\n",
       "    <tr>\n",
       "      <th>1</th>\n",
       "      <td>做愛的本質是穴道按摩 ＜兵法書＃328＞</td>\n",
       "      <td>328</td>\n",
       "      <td>兵法書</td>\n",
       "      <td>做愛的本質是穴道按摩</td>\n",
       "      <td>https://www.pressplay.cc/project/8DB74C4CEC521...</td>\n",
       "      <td></td>\n",
       "    </tr>\n",
       "    <tr>\n",
       "      <th>2</th>\n",
       "      <td>憂鬱是生存必備的「省電模式」＜兵法書＃327 懶較大智慧＞</td>\n",
       "      <td>None</td>\n",
       "      <td>None</td>\n",
       "      <td>None</td>\n",
       "      <td>https://www.pressplay.cc/project/8DB74C4CEC521...</td>\n",
       "      <td></td>\n",
       "    </tr>\n",
       "    <tr>\n",
       "      <th>3</th>\n",
       "      <td>享受孤獨的「前提」是什麼？ ＜兵法書＃326＞</td>\n",
       "      <td>326</td>\n",
       "      <td>兵法書</td>\n",
       "      <td>享受孤獨的「前提」是什麼？</td>\n",
       "      <td>https://www.pressplay.cc/project/8DB74C4CEC521...</td>\n",
       "      <td></td>\n",
       "    </tr>\n",
       "    <tr>\n",
       "      <th>4</th>\n",
       "      <td>顏文字速約：盲砲精神 ＜攻城包＃326＞</td>\n",
       "      <td>326</td>\n",
       "      <td>攻城包</td>\n",
       "      <td>顏文字速約：盲砲精神</td>\n",
       "      <td>https://www.pressplay.cc/project/8DB74C4CEC521...</td>\n",
       "      <td></td>\n",
       "    </tr>\n",
       "  </tbody>\n",
       "</table>\n",
       "</div>"
      ],
      "text/plain": [
       "                           title number  type      title_text  \\\n",
       "0          真正的「九淺一深」技術 ＜攻城包＃328＞    328   攻城包    真正的「九淺一深」技術    \n",
       "1           做愛的本質是穴道按摩 ＜兵法書＃328＞    328   兵法書     做愛的本質是穴道按摩    \n",
       "2  憂鬱是生存必備的「省電模式」＜兵法書＃327 懶較大智慧＞   None  None            None   \n",
       "3        享受孤獨的「前提」是什麼？ ＜兵法書＃326＞    326   兵法書  享受孤獨的「前提」是什麼？    \n",
       "4           顏文字速約：盲砲精神 ＜攻城包＃326＞    326   攻城包     顏文字速約：盲砲精神    \n",
       "\n",
       "                                                link exist  \n",
       "0  https://www.pressplay.cc/project/8DB74C4CEC521...        \n",
       "1  https://www.pressplay.cc/project/8DB74C4CEC521...        \n",
       "2  https://www.pressplay.cc/project/8DB74C4CEC521...        \n",
       "3  https://www.pressplay.cc/project/8DB74C4CEC521...        \n",
       "4  https://www.pressplay.cc/project/8DB74C4CEC521...        "
      ]
     },
     "execution_count": 9,
     "metadata": {},
     "output_type": "execute_result"
    }
   ],
   "source": [
    "df.head()"
   ]
  },
  {
   "cell_type": "code",
   "execution_count": 16,
   "metadata": {},
   "outputs": [],
   "source": [
    "import random\n",
    "# 假設 df 是之前創建的包含 \"title\" 和 \"link\" 的 DataFrame\n",
    "# df = pd.DataFrame(data)\n",
    "\n",
    "# 遍歷每個鏈接\n",
    "for link in df.link.to_list()[:3]:\n",
    "    \n",
    "    i = df[df[\"link\"].str.contains(link)].index[0]\n",
    "    \n",
    "    if df.at[i, \"exist\"] != \"\":\n",
    "        continue\n",
    "    \n",
    "    # 1. 移動到頁面\n",
    "    driver.get(link)\n",
    "    sleep(1)  # 等待頁面加載\n",
    "\n",
    "    # 2. 保存頁面並命名為 \"{span_contents[i]}.html\"\n",
    "    title = df.at[i, \"title\"]\n",
    "    page_source = driver.page_source\n",
    "    filename = f\"./Pages/{title}.html\"\n",
    "    with open(filename, \"w\", encoding=\"utf-8\") as file:\n",
    "        file.write(page_source)\n",
    "\n",
    "    # 3. 將頁面文件名添加到 DataFrame\n",
    "    df.loc[i, \"exist\"] = \"True\"\n",
    "    \n",
    "    scroll_to_bottom(driver, scroll_pause_time=1, scroll_time=5)\n"
   ]
  },
  {
   "cell_type": "code",
   "execution_count": 15,
   "metadata": {},
   "outputs": [],
   "source": [
    "# 如果 \"pressplay.csv\" 不存在，則創建並保存；否則，追加到 \"pressplay.csv\"\n",
    "#TODO: 中文儲存出現問題，為亂碼，請解決\n",
    "try:\n",
    "    existing_df = pd.read_csv(\"pressplay.csv\")\n",
    "    combined_df = pd.concat([existing_df, df], ignore_index=True)\n",
    "    combined_df.to_csv(\"pressplay.csv\", index=False, encoding='utf-8-sig')\n",
    "except FileNotFoundError:\n",
    "    df.to_csv(\"pressplay.csv\", index=False, encoding='utf-8-sig')"
   ]
  },
  {
   "cell_type": "code",
   "execution_count": 15,
   "metadata": {},
   "outputs": [],
   "source": [
    "df.to_csv(\"pressplay.csv\", index=False, encoding='utf-8-sig')"
   ]
  },
  {
   "cell_type": "code",
   "execution_count": null,
   "metadata": {},
   "outputs": [],
   "source": []
  }
 ],
 "metadata": {
  "kernelspec": {
   "display_name": "CVEnv",
   "language": "python",
   "name": "cvenv"
  },
  "language_info": {
   "codemirror_mode": {
    "name": "ipython",
    "version": 3
   },
   "file_extension": ".py",
   "mimetype": "text/x-python",
   "name": "python",
   "nbconvert_exporter": "python",
   "pygments_lexer": "ipython3",
   "version": "3.8.16"
  }
 },
 "nbformat": 4,
 "nbformat_minor": 2
}
